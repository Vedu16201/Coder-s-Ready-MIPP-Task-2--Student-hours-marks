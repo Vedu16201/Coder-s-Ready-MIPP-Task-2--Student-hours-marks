{
 "cells": [
  {
   "cell_type": "markdown",
   "id": "88bbc835",
   "metadata": {},
   "source": [
    "# <span style=\"color:olive\"><center>Coder's Ready MIPP Task 2- Student Hours"
   ]
  },
  {
   "cell_type": "markdown",
   "id": "aa74c2a7",
   "metadata": {},
   "source": [
    "- Created by **Vedanta Nair**"
   ]
  },
  {
   "cell_type": "markdown",
   "id": "54fa9b74",
   "metadata": {},
   "source": [
    "## <span style=\"color:olive\"><left>Objective"
   ]
  },
  {
   "cell_type": "markdown",
   "id": "1b69ac27",
   "metadata": {},
   "source": [
    "- As a Data Analyst, try to find out the prediction of score."
   ]
  },
  {
   "cell_type": "markdown",
   "id": "b460b978",
   "metadata": {},
   "source": [
    "## <span style=\"color:olive\"><left>Table of Contents"
   ]
  },
  {
   "cell_type": "markdown",
   "id": "1981d41f",
   "metadata": {},
   "source": [
    "<div class=\"alert alert-block alert-info\">\n",
    "\n",
    "- 1.) Brief Description about the Dataset.\n",
    "\n",
    "- 2.) Importing required Liraries\n",
    "    \n",
    "- 3.) Loading dataset\n",
    "    \n",
    "- 4.) Checking for null values in Dataset.\n",
    "\n",
    "- 5.) Preparing Data\n",
    "\n",
    "- 6.) Splitting into Train and Test sets\n",
    "\n",
    "- 7.) Training the Data\n",
    "    - Plotting using Train Data\n",
    "\n",
    "- 8.) Testing Data\n",
    "    - Plotting using Test Data\n",
    "\n",
    "- 9.) Comparing Actual vs Predicted Scores.\n",
    "    - Plotting a Regression Plot of Actual Vs Predicted Marks\n",
    "    - Checking Accuracy of the model\n",
    "    - What will be the predicted score if a student studies for 8.5 hours/day?\n",
    "\n",
    "- 10.) Conclusion\n",
    "    "
   ]
  },
  {
   "cell_type": "markdown",
   "id": "751c96be",
   "metadata": {},
   "source": [
    "## <span style=\"color:olive\"><left>Importing Required Libraries"
   ]
  },
  {
   "cell_type": "code",
   "execution_count": 33,
   "id": "b5fd2f61",
   "metadata": {},
   "outputs": [],
   "source": [
    "import pandas as pd\n",
    "import numpy as np\n",
    "import matplotlib.pyplot as plt \n",
    "import seaborn as sns\n",
    "from sklearn.model_selection import train_test_split\n",
    "from sklearn.linear_model import LinearRegression\n",
    "from sklearn.metrics import mean_absolute_error\n",
    "from sklearn import metrics"
   ]
  },
  {
   "cell_type": "markdown",
   "id": "bc65a1ca",
   "metadata": {},
   "source": [
    "## <span style=\"color:olive\"><left>Loading Dataset"
   ]
  },
  {
   "cell_type": "code",
   "execution_count": 34,
   "id": "8e5fd1ba",
   "metadata": {},
   "outputs": [
    {
     "data": {
      "text/html": [
       "<div>\n",
       "<style scoped>\n",
       "    .dataframe tbody tr th:only-of-type {\n",
       "        vertical-align: middle;\n",
       "    }\n",
       "\n",
       "    .dataframe tbody tr th {\n",
       "        vertical-align: top;\n",
       "    }\n",
       "\n",
       "    .dataframe thead th {\n",
       "        text-align: right;\n",
       "    }\n",
       "</style>\n",
       "<table border=\"1\" class=\"dataframe\">\n",
       "  <thead>\n",
       "    <tr style=\"text-align: right;\">\n",
       "      <th></th>\n",
       "      <th>Hours</th>\n",
       "      <th>Scores</th>\n",
       "    </tr>\n",
       "  </thead>\n",
       "  <tbody>\n",
       "    <tr>\n",
       "      <th>0</th>\n",
       "      <td>2.5</td>\n",
       "      <td>21</td>\n",
       "    </tr>\n",
       "    <tr>\n",
       "      <th>1</th>\n",
       "      <td>5.1</td>\n",
       "      <td>47</td>\n",
       "    </tr>\n",
       "    <tr>\n",
       "      <th>2</th>\n",
       "      <td>3.2</td>\n",
       "      <td>27</td>\n",
       "    </tr>\n",
       "    <tr>\n",
       "      <th>3</th>\n",
       "      <td>8.5</td>\n",
       "      <td>75</td>\n",
       "    </tr>\n",
       "    <tr>\n",
       "      <th>4</th>\n",
       "      <td>3.5</td>\n",
       "      <td>30</td>\n",
       "    </tr>\n",
       "    <tr>\n",
       "      <th>5</th>\n",
       "      <td>1.5</td>\n",
       "      <td>20</td>\n",
       "    </tr>\n",
       "    <tr>\n",
       "      <th>6</th>\n",
       "      <td>9.2</td>\n",
       "      <td>88</td>\n",
       "    </tr>\n",
       "    <tr>\n",
       "      <th>7</th>\n",
       "      <td>5.5</td>\n",
       "      <td>60</td>\n",
       "    </tr>\n",
       "    <tr>\n",
       "      <th>8</th>\n",
       "      <td>8.3</td>\n",
       "      <td>81</td>\n",
       "    </tr>\n",
       "    <tr>\n",
       "      <th>9</th>\n",
       "      <td>2.7</td>\n",
       "      <td>25</td>\n",
       "    </tr>\n",
       "  </tbody>\n",
       "</table>\n",
       "</div>"
      ],
      "text/plain": [
       "   Hours  Scores\n",
       "0    2.5      21\n",
       "1    5.1      47\n",
       "2    3.2      27\n",
       "3    8.5      75\n",
       "4    3.5      30\n",
       "5    1.5      20\n",
       "6    9.2      88\n",
       "7    5.5      60\n",
       "8    8.3      81\n",
       "9    2.7      25"
      ]
     },
     "execution_count": 34,
     "metadata": {},
     "output_type": "execute_result"
    }
   ],
   "source": [
    "df = pd.read_csv('stu_sh.csv')\n",
    "df.head(10)"
   ]
  },
  {
   "cell_type": "markdown",
   "id": "73c61374",
   "metadata": {},
   "source": [
    "## <span style=\"color:olive\"><left>Checking for null values in Dataset."
   ]
  },
  {
   "cell_type": "code",
   "execution_count": 35,
   "id": "39d1421d",
   "metadata": {},
   "outputs": [
    {
     "data": {
      "text/plain": [
       "Hours     0\n",
       "Scores    0\n",
       "dtype: int64"
      ]
     },
     "execution_count": 35,
     "metadata": {},
     "output_type": "execute_result"
    }
   ],
   "source": [
    "df.isnull().sum()"
   ]
  },
  {
   "cell_type": "markdown",
   "id": "48cb902f",
   "metadata": {},
   "source": [
    "- **There is no null value in the Dataset so, we can now visualize our Data.**"
   ]
  },
  {
   "cell_type": "code",
   "execution_count": 36,
   "id": "55030aa1",
   "metadata": {
    "scrolled": true
   },
   "outputs": [
    {
     "data": {
      "image/png": "[encoded data removed]",
      "text/plain": [
       "<Figure size 432x288 with 1 Axes>"
      ]
     },
     "metadata": {},
     "output_type": "display_data"
    }
   ],
   "source": [
    "sns.set_style('whitegrid')\n",
    "sns.scatterplot(y= df['Scores'], x= df['Hours'],color='red')\n",
    "plt.title('Visual Corelation between Scores and Study Hours',size=15)\n",
    "plt.ylabel('% of Marks ', size=12)\n",
    "plt.xlabel('Hours Studied', size=12)\n",
    "plt.show()"
   ]
  },
  {
   "cell_type": "markdown",
   "id": "dae03b0e",
   "metadata": {},
   "source": [
    "- **From the above scatter plot there looks to be correlation between the 'Marks Percentage' and 'Hours Studied', we shall plot a regression line to confirm the correlation.**"
   ]
  },
  {
   "cell_type": "code",
   "execution_count": 40,
   "id": "c0cf99de",
   "metadata": {},
   "outputs": [
    {
     "data": {
      "image/png": "[encoded data removed]",
      "text/plain": [
       "<Figure size 432x288 with 1 Axes>"
      ]
     },
     "metadata": {},
     "output_type": "display_data"
    }
   ],
   "source": [
    "sns.regplot(x= df['Hours'], y= df['Scores'])\n",
    "plt.title('Regression Plot',size=20)\n",
    "plt.ylabel('Marks Percentage', size=12)\n",
    "plt.xlabel('Hours Studied', size=12)\n",
    "plt.show()\n"
   ]
  },
  {
   "cell_type": "code",
   "execution_count": 37,
   "id": "3e2f0010",
   "metadata": {},
   "outputs": [
    {
     "data": {
      "text/html": [
       "<div>\n",
       "<style scoped>\n",
       "    .dataframe tbody tr th:only-of-type {\n",
       "        vertical-align: middle;\n",
       "    }\n",
       "\n",
       "    .dataframe tbody tr th {\n",
       "        vertical-align: top;\n",
       "    }\n",
       "\n",
       "    .dataframe thead th {\n",
       "        text-align: right;\n",
       "    }\n",
       "</style>\n",
       "<table border=\"1\" class=\"dataframe\">\n",
       "  <thead>\n",
       "    <tr style=\"text-align: right;\">\n",
       "      <th></th>\n",
       "      <th>Hours</th>\n",
       "      <th>Scores</th>\n",
       "    </tr>\n",
       "  </thead>\n",
       "  <tbody>\n",
       "    <tr>\n",
       "      <th>Hours</th>\n",
       "      <td>1.000000</td>\n",
       "      <td>0.976191</td>\n",
       "    </tr>\n",
       "    <tr>\n",
       "      <th>Scores</th>\n",
       "      <td>0.976191</td>\n",
       "      <td>1.000000</td>\n",
       "    </tr>\n",
       "  </tbody>\n",
       "</table>\n",
       "</div>"
      ],
      "text/plain": [
       "           Hours    Scores\n",
       "Hours   1.000000  0.976191\n",
       "Scores  0.976191  1.000000"
      ]
     },
     "execution_count": 37,
     "metadata": {},
     "output_type": "execute_result"
    }
   ],
   "source": [
    "df.corr()"
   ]
  },
  {
   "cell_type": "markdown",
   "id": "1475340d",
   "metadata": {},
   "source": [
    "- **It is confirmed that the variables are positively correlated.**"
   ]
  },
  {
   "cell_type": "markdown",
   "id": "710d6757",
   "metadata": {},
   "source": [
    "## <span style=\"color:olive\"><left>Preparing Data"
   ]
  },
  {
   "cell_type": "code",
   "execution_count": 15,
   "id": "dd7e26bf",
   "metadata": {},
   "outputs": [],
   "source": [
    "X = df.iloc[:, :-1].values    \n",
    "y = df.iloc[:, 1].values  "
   ]
  },
  {
   "cell_type": "code",
   "execution_count": 17,
   "id": "62f4d1fb",
   "metadata": {},
   "outputs": [
    {
     "data": {
      "text/plain": [
       "array([[2.5],\n",
       "       [5.1],\n",
       "       [3.2],\n",
       "       [8.5],\n",
       "       [3.5],\n",
       "       [1.5],\n",
       "       [9.2],\n",
       "       [5.5],\n",
       "       [8.3],\n",
       "       [2.7],\n",
       "       [7.7],\n",
       "       [5.9],\n",
       "       [4.5],\n",
       "       [3.3],\n",
       "       [1.1],\n",
       "       [8.9],\n",
       "       [2.5],\n",
       "       [1.9],\n",
       "       [6.1],\n",
       "       [7.4],\n",
       "       [2.7],\n",
       "       [4.8],\n",
       "       [3.8],\n",
       "       [6.9],\n",
       "       [7.8]])"
      ]
     },
     "execution_count": 17,
     "metadata": {},
     "output_type": "execute_result"
    }
   ],
   "source": [
    "X"
   ]
  },
  {
   "cell_type": "code",
   "execution_count": 18,
   "id": "3afbfe2c",
   "metadata": {},
   "outputs": [
    {
     "data": {
      "text/plain": [
       "array([21, 47, 27, 75, 30, 20, 88, 60, 81, 25, 85, 62, 41, 42, 17, 95, 30,\n",
       "       24, 67, 69, 30, 54, 35, 76, 86], dtype=int64)"
      ]
     },
     "execution_count": 18,
     "metadata": {},
     "output_type": "execute_result"
    }
   ],
   "source": [
    "y"
   ]
  },
  {
   "cell_type": "markdown",
   "id": "10a9ec86",
   "metadata": {},
   "source": [
    "## <span style=\"color:olive\"><left>Splitting into Train and Test sets"
   ]
  },
  {
   "cell_type": "code",
   "execution_count": 16,
   "id": "dadabf73",
   "metadata": {},
   "outputs": [],
   "source": [
    "X_train, X_test, y_train, y_test = train_test_split(X, y,test_size=0.2, random_state=0)"
   ]
  },
  {
   "cell_type": "code",
   "execution_count": 19,
   "id": "f185e60e",
   "metadata": {},
   "outputs": [
    {
     "name": "stdout",
     "output_type": "stream",
     "text": [
      "X train.shape = (20, 1)\n",
      "Y train.shape = (20,)\n",
      "X test.shape  = (5, 1)\n",
      "Y test.shape  = (5,)\n"
     ]
    }
   ],
   "source": [
    "## We have Splitted Our Data Using 80:20 RULe(PARETO)\n",
    "print(\"X train.shape =\", X_train.shape)\n",
    "print(\"Y train.shape =\", y_train.shape)\n",
    "print(\"X test.shape  =\", X_test.shape)\n",
    "print(\"Y test.shape  =\", y_test.shape)"
   ]
  },
  {
   "cell_type": "markdown",
   "id": "e74cc36e",
   "metadata": {},
   "source": [
    "## <span style=\"color:olive\"><left>Training the Data"
   ]
  },
  {
   "cell_type": "code",
   "execution_count": 20,
   "id": "1b2338f2",
   "metadata": {},
   "outputs": [
    {
     "name": "stdout",
     "output_type": "stream",
     "text": [
      "Training Has Been Successfully Completed !.\n"
     ]
    }
   ],
   "source": [
    "regressor = LinearRegression()    \n",
    "regressor.fit(X_train, y_train)   \n",
    "  \n",
    "print(\"Training Has Been Successfully Completed !.\")"
   ]
  },
  {
   "cell_type": "code",
   "execution_count": 21,
   "id": "88d6013f",
   "metadata": {},
   "outputs": [],
   "source": [
    "trainr= regressor.intercept_ + regressor.coef_*X_train"
   ]
  },
  {
   "cell_type": "markdown",
   "id": "8d3828d6",
   "metadata": {},
   "source": [
    "### <span style=\"color:olive\"><left>Plotting using Train data"
   ]
  },
  {
   "cell_type": "code",
   "execution_count": 22,
   "id": "38186dee",
   "metadata": {
    "scrolled": true
   },
   "outputs": [
    {
     "data": {
      "image/png": "[encoded data removed]",
      "text/plain": [
       "<Figure size 432x288 with 1 Axes>"
      ]
     },
     "metadata": {},
     "output_type": "display_data"
    }
   ],
   "source": [
    "##plotting on train data\n",
    "plt.scatter(X_train,y_train,color='green',marker='x')\n",
    "plt.plot(X_train,trainr,color='orange')\n",
    "plt.xlabel(\"Hours\",fontsize=15)\n",
    "plt.ylabel(\"Scores\",fontsize=15)\n",
    "plt.title(\"Regression line(Train set)\",fontsize=10)\n",
    "plt.show()"
   ]
  },
  {
   "cell_type": "markdown",
   "id": "a8245adc",
   "metadata": {},
   "source": [
    "## <span style=\"color:olive\"><left>Testing Data"
   ]
  },
  {
   "cell_type": "code",
   "execution_count": 44,
   "id": "857444dd",
   "metadata": {},
   "outputs": [
    {
     "name": "stdout",
     "output_type": "stream",
     "text": [
      "[[1.5]\n",
      " [3.2]\n",
      " [7.4]\n",
      " [2.5]\n",
      " [5.9]]\n"
     ]
    }
   ],
   "source": [
    "print(X_test)"
   ]
  },
  {
   "cell_type": "code",
   "execution_count": 45,
   "id": "2e9ec3ea",
   "metadata": {},
   "outputs": [],
   "source": [
    "y_pred = regressor.predict(X_test)"
   ]
  },
  {
   "cell_type": "code",
   "execution_count": 24,
   "id": "19463a98",
   "metadata": {},
   "outputs": [
    {
     "data": {
      "text/plain": [
       "array([20, 27, 69, 30, 62], dtype=int64)"
      ]
     },
     "execution_count": 24,
     "metadata": {},
     "output_type": "execute_result"
    }
   ],
   "source": [
    "y_test"
   ]
  },
  {
   "cell_type": "markdown",
   "id": "bded9efc",
   "metadata": {},
   "source": [
    "### <span style=\"color:olive\"><left>Plotting using Test data"
   ]
  },
  {
   "cell_type": "code",
   "execution_count": 25,
   "id": "ebcbedf3",
   "metadata": {},
   "outputs": [
    {
     "data": {
      "image/png": "[encoded data removed]",
      "text/plain": [
       "<Figure size 432x288 with 1 Axes>"
      ]
     },
     "metadata": {},
     "output_type": "display_data"
    }
   ],
   "source": [
    "#plotting line on test data\n",
    "plt.plot(X_test,y_pred,color='red')\n",
    "plt.scatter(X_test,y_test,color='black',marker='+')\n",
    "plt.xlabel(\"Hours\",fontsize=15)\n",
    "plt.ylabel(\"Scores\",fontsize=15)\n",
    "plt.title(\"Regression line(Test set)\",fontsize=10)\n",
    "plt.show()"
   ]
  },
  {
   "cell_type": "markdown",
   "id": "fc0d96f2",
   "metadata": {},
   "source": [
    "## <span style=\"color:olive\"><left>Comparing Actual vs Predicted Scores.¶"
   ]
  },
  {
   "cell_type": "code",
   "execution_count": 42,
   "id": "505a4ec8",
   "metadata": {},
   "outputs": [
    {
     "data": {
      "text/html": [
       "<div>\n",
       "<style scoped>\n",
       "    .dataframe tbody tr th:only-of-type {\n",
       "        vertical-align: middle;\n",
       "    }\n",
       "\n",
       "    .dataframe tbody tr th {\n",
       "        vertical-align: top;\n",
       "    }\n",
       "\n",
       "    .dataframe thead th {\n",
       "        text-align: right;\n",
       "    }\n",
       "</style>\n",
       "<table border=\"1\" class=\"dataframe\">\n",
       "  <thead>\n",
       "    <tr style=\"text-align: right;\">\n",
       "      <th></th>\n",
       "      <th>Actual</th>\n",
       "      <th>Predicted</th>\n",
       "    </tr>\n",
       "  </thead>\n",
       "  <tbody>\n",
       "    <tr>\n",
       "      <th>0</th>\n",
       "      <td>20</td>\n",
       "      <td>16.884145</td>\n",
       "    </tr>\n",
       "    <tr>\n",
       "      <th>1</th>\n",
       "      <td>27</td>\n",
       "      <td>33.732261</td>\n",
       "    </tr>\n",
       "    <tr>\n",
       "      <th>2</th>\n",
       "      <td>69</td>\n",
       "      <td>75.357018</td>\n",
       "    </tr>\n",
       "    <tr>\n",
       "      <th>3</th>\n",
       "      <td>30</td>\n",
       "      <td>26.794801</td>\n",
       "    </tr>\n",
       "    <tr>\n",
       "      <th>4</th>\n",
       "      <td>62</td>\n",
       "      <td>60.491033</td>\n",
       "    </tr>\n",
       "  </tbody>\n",
       "</table>\n",
       "</div>"
      ],
      "text/plain": [
       "   Actual  Predicted\n",
       "0      20  16.884145\n",
       "1      27  33.732261\n",
       "2      69  75.357018\n",
       "3      30  26.794801\n",
       "4      62  60.491033"
      ]
     },
     "execution_count": 42,
     "metadata": {},
     "output_type": "execute_result"
    }
   ],
   "source": [
    "df = pd.DataFrame({'Actual': y_test, 'Predicted': y_pred})    \n",
    "df"
   ]
  },
  {
   "cell_type": "markdown",
   "id": "06a4b7ef",
   "metadata": {},
   "source": [
    "### <span style=\"color:olive\"><left>Plotting a Regression Plot of Actual Vs Predicted Marks"
   ]
  },
  {
   "cell_type": "code",
   "execution_count": 43,
   "id": "b922d8a0",
   "metadata": {
    "scrolled": true
   },
   "outputs": [
    {
     "data": {
      "image/png": "[encoded data removed]",
      "text/plain": [
       "<Figure size 432x288 with 1 Axes>"
      ]
     },
     "metadata": {},
     "output_type": "display_data"
    }
   ],
   "source": [
    "line = regressor.coef_*X+regressor.intercept_  \n",
    "sns.set_style('whitegrid')\n",
    "plt.scatter(X, y,color='red')  \n",
    "plt.plot(X, line,'fuchsia')\n",
    "plt.title(\"Regression Plot(Actual Vs Predicted Marks)\",size=15)\n",
    "plt.ylabel('% of Marks ', size=12)\n",
    "plt.xlabel('Hours Studied', size=12)\n",
    "plt.show()  "
   ]
  },
  {
   "cell_type": "markdown",
   "id": "5ed11524",
   "metadata": {},
   "source": [
    "### <span style=\"color:olive\"><left>Checking Accuracy of the model"
   ]
  },
  {
   "cell_type": "code",
   "execution_count": 28,
   "id": "cef804c9",
   "metadata": {},
   "outputs": [
    {
     "data": {
      "text/plain": [
       "0.9454906892105356"
      ]
     },
     "execution_count": 28,
     "metadata": {},
     "output_type": "execute_result"
    }
   ],
   "source": [
    "metrics.r2_score(y_test,y_pred)##Goodness of fit Test"
   ]
  },
  {
   "cell_type": "markdown",
   "id": "2fbddf9c",
   "metadata": {},
   "source": [
    "**94%** means that the above created model is a **Good Model**"
   ]
  },
  {
   "cell_type": "markdown",
   "id": "e3c6c34b",
   "metadata": {},
   "source": [
    "###  What will be the predicted score if a student studies for 8.5 hours/day? "
   ]
  },
  {
   "cell_type": "code",
   "execution_count": 47,
   "id": "7e2668fb",
   "metadata": {},
   "outputs": [
    {
     "name": "stdout",
     "output_type": "stream",
     "text": [
      "Number of hours = [[8.5]]\n",
      "The predicted score if a student studies for 8.5 hours a day is = 86.2587401268937\n"
     ]
    }
   ],
   "source": [
    "hours = [[8.5]]\n",
    "own_pred = regressor.predict(hours)  \n",
    "print(\"Number of hours = {}\".format(hours))  \n",
    "print(\"The predicted score if a student studies for 8.5 hours a day is = {}\".format(own_pred[0]))  "
   ]
  },
  {
   "cell_type": "markdown",
   "id": "9bed14f5",
   "metadata": {},
   "source": [
    "## <span style=\"color:olive\"><left>Conclusion"
   ]
  },
  {
   "cell_type": "markdown",
   "id": "30425fab",
   "metadata": {},
   "source": [
    "- From the above result we can say that if a studied for **8.5 hours/day** then student will secured **86.25 marks**"
   ]
  }
 ],
 "metadata": {
  "kernelspec": {
   "display_name": "Python 3 (ipykernel)",
   "language": "python",
   "name": "python3"
  },
  "language_info": {
   "codemirror_mode": {
    "name": "ipython",
    "version": 3
   },
   "file_extension": ".py",
   "mimetype": "text/x-python",
   "name": "python",
   "nbconvert_exporter": "python",
   "pygments_lexer": "ipython3",
   "version": "3.9.12"
  },
  "toc": {
   "base_numbering": 1,
   "nav_menu": {},
   "number_sections": true,
   "sideBar": true,
   "skip_h1_title": false,
   "title_cell": "Table of Contents",
   "title_sidebar": "Contents",
   "toc_cell": false,
   "toc_position": {},
   "toc_section_display": true,
   "toc_window_display": false
  }
 },
 "nbformat": 4,
 "nbformat_minor": 5
}
